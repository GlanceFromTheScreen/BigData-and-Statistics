{
 "cells": [
  {
   "cell_type": "code",
   "execution_count": 35,
   "metadata": {
    "collapsed": true
   },
   "outputs": [],
   "source": [
    "import scipy as sc\n",
    "import numpy as np\n",
    "import matplotlib.pyplot as plt\n",
    "plt.rcParams['figure.figsize'] = [15, 10]\n",
    "import warnings\n",
    "from statistics import mean, median\n",
    "warnings.filterwarnings('ignore')\n",
    "import math"
   ]
  },
  {
   "cell_type": "code",
   "execution_count": 36,
   "outputs": [],
   "source": [
    "import numpy as np\n",
    "from sklearn.linear_model import LinearRegression"
   ],
   "metadata": {
    "collapsed": false
   }
  },
  {
   "cell_type": "code",
   "execution_count": 126,
   "outputs": [],
   "source": [
    "h = 0.02\n",
    "sample_size = 10\n",
    "dt = 1  # period of descritization\n",
    "p = 3  # Prony param: depth of the model\n",
    "\n",
    "my_d = \\\n",
    "    [sum([k*math.exp(-h*i / k) * math.cos(4*math.pi*k*h*i + math.pi/k) for k in range(1, 4)]) for i in range(sample_size)]\n",
    "\n",
    "my_d = [1.1387, 1.09506, 1.04571, 0.991055]\n",
    "p = 2\n",
    "sample_size = 4"
   ],
   "metadata": {
    "collapsed": false
   }
  },
  {
   "cell_type": "markdown",
   "source": [
    "Prony Method"
   ],
   "metadata": {
    "collapsed": false
   }
  },
  {
   "cell_type": "code",
   "execution_count": 137,
   "outputs": [
    {
     "name": "stdout",
     "output_type": "stream",
     "text": [
      "[1.1387, 1.09506, 1.04571, 0.991055]\n",
      "\n",
      "[[1.09506 1.1387 ]\n",
      " [1.04571 1.09506]]\n",
      "\n",
      "[-1.04571  -0.991055]\n"
     ]
    },
    {
     "data": {
      "text/plain": "[0.32507006205899314, -0.3250700620589878]"
     },
     "execution_count": 137,
     "metadata": {},
     "output_type": "execute_result"
    }
   ],
   "source": [
    "x_left = np.array([[my_d[p-i+j-1] for i in range(p)] for j in range(sample_size - p)])\n",
    "x_right = np.array([-my_d[p+j] for j in range(sample_size - p)])\n",
    "\n",
    "model = LinearRegression()\n",
    "model.fit(x_left, x_right)\n",
    "print(my_d)\n",
    "print()\n",
    "print(x_left)\n",
    "print()\n",
    "print(x_right)\n",
    "\n",
    "a_vector = np.linalg.solve(x_left.T.dot(x_left), x_left.T.dot(x_right))\n",
    "z_vector = np.roots(np.append(1, a_vector))\n",
    "f_vector = [1 / (2 * math.pi * dt) * math.atan(z_vector[i].imag / z_vector[i].real) for i in range(p)]\n",
    "alfa_vector = [1 / dt * math.log(abs(z_vector[i])) for i in range(p)]\n",
    "z_left = np.array([[z_vector[i] ** j for i in range(p)]for j in range(sample_size)])\n",
    "h_vector = np.linalg.solve(z_left.T.dot(z_left), z_left.T.dot(my_d))\n",
    "A_vector = [abs(h_vector[k]) for k in range(p)]\n",
    "phi_vector = [math.atan(h_vector[i].imag / h_vector[i].real) for i in range(p)]\n"
   ],
   "metadata": {
    "collapsed": false
   }
  },
  {
   "cell_type": "code",
   "execution_count": null,
   "outputs": [],
   "source": [],
   "metadata": {
    "collapsed": false,
    "pycharm": {
     "is_executing": true
    }
   }
  }
 ],
 "metadata": {
  "kernelspec": {
   "display_name": "Python 3",
   "language": "python",
   "name": "python3"
  },
  "language_info": {
   "codemirror_mode": {
    "name": "ipython",
    "version": 2
   },
   "file_extension": ".py",
   "mimetype": "text/x-python",
   "name": "python",
   "nbconvert_exporter": "python",
   "pygments_lexer": "ipython2",
   "version": "2.7.6"
  }
 },
 "nbformat": 4,
 "nbformat_minor": 0
}
